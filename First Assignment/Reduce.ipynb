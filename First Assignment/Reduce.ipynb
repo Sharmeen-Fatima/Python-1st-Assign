{
 "cells": [
  {
   "cell_type": "markdown",
   "metadata": {},
   "source": [
    "Reduce Function"
   ]
  },
  {
   "cell_type": "markdown",
   "metadata": {},
   "source": [
    "Use Case\t                Example\n",
    "Sum\t                        reduce(lambda x, y: x + y, a)\n",
    "Subtraction\t                reduce(lambda x, y: x - y, a)\n",
    "Multiplication\t            reduce(lambda x, y: x * y, a)\n",
    "Maximum\t                    reduce(lambda x, y: x if x > y else y, a)\n",
    "Minimum\t                    reduce(lambda x, y: x if x < y else y, a)\n",
    "String Join\t                reduce(lambda x, y: x + \" \" + y, words)\n",
    "AND/OR Operations\t        reduce(lambda x, y: x and y, a)\n",
    "GCD Find\t                reduce(math.gcd, a)\n",
    "Factorial\t                reduce(lambda x, y: x * y, range(1, n+1))\n",
    "Binary to Integer\t        reduce(lambda x, y: x * 2 + int(y), binary_str, 0)"
   ]
  },
  {
   "cell_type": "markdown",
   "metadata": {},
   "source": [
    "Reduce Function use Addition"
   ]
  },
  {
   "cell_type": "code",
   "execution_count": null,
   "metadata": {},
   "outputs": [
    {
     "name": "stdout",
     "output_type": "stream",
     "text": [
      "188\n"
     ]
    }
   ],
   "source": [
    "from functools import reduce\n",
    "def add(x,y):\n",
    "    return x + y\n",
    "aneeq = [1,2,3,8,9,25,63,77]\n",
    "red = reduce(add, aneeq)\n",
    "print(red)"
   ]
  },
  {
   "cell_type": "markdown",
   "metadata": {},
   "source": [
    "Reduce Function use subraction"
   ]
  },
  {
   "cell_type": "code",
   "execution_count": 6,
   "metadata": {},
   "outputs": [
    {
     "name": "stdout",
     "output_type": "stream",
     "text": [
      "27\n"
     ]
    }
   ],
   "source": [
    "from functools import reduce\n",
    "\n",
    "def min(a,b):\n",
    "    return a - b\n",
    "ali = [89,5,47,4,6]\n",
    "red = reduce(min,ali)\n",
    "print(red)\n"
   ]
  },
  {
   "cell_type": "markdown",
   "metadata": {},
   "source": [
    "reduce function use lambda with addition"
   ]
  },
  {
   "cell_type": "code",
   "execution_count": null,
   "metadata": {},
   "outputs": [
    {
     "name": "stdout",
     "output_type": "stream",
     "text": [
      "15\n"
     ]
    }
   ],
   "source": [
    "from functools import reduce\n",
    "\n",
    "a = [1, 2, 3, 4, 5]\n",
    "res = reduce(lambda x, y: x + y, a)\n",
    "\n",
    "print(res)"
   ]
  },
  {
   "cell_type": "markdown",
   "metadata": {},
   "source": [
    "Reduce Function use Lambda with Multiplation"
   ]
  },
  {
   "cell_type": "code",
   "execution_count": 14,
   "metadata": {},
   "outputs": [
    {
     "name": "stdout",
     "output_type": "stream",
     "text": [
      "877500\n"
     ]
    }
   ],
   "source": [
    "from functools import reduce\n",
    "\n",
    "a = [10,5,78,45,5]\n",
    "red = reduce(lambda x, y: x * y, a)\n",
    "\n",
    "print(red)"
   ]
  }
 ],
 "metadata": {
  "kernelspec": {
   "display_name": "Python 3",
   "language": "python",
   "name": "python3"
  },
  "language_info": {
   "codemirror_mode": {
    "name": "ipython",
    "version": 3
   },
   "file_extension": ".py",
   "mimetype": "text/x-python",
   "name": "python",
   "nbconvert_exporter": "python",
   "pygments_lexer": "ipython3",
   "version": "3.13.1"
  }
 },
 "nbformat": 4,
 "nbformat_minor": 2
}
